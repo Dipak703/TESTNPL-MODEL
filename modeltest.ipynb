{
  "cells": [
    {
      "cell_type": "markdown",
      "metadata": {
        "id": "view-in-github",
        "colab_type": "text"
      },
      "source": [
        "<a href=\"https://colab.research.google.com/github/Dipak703/TESTNPL-MODEL/blob/main/modeltest.ipynb\" target=\"_parent\"><img src=\"https://colab.research.google.com/assets/colab-badge.svg\" alt=\"Open In Colab\"/></a>"
      ]
    },
    {
      "cell_type": "code",
      "execution_count": null,
      "metadata": {
        "id": "RXPLcs23J9qt"
      },
      "outputs": [],
      "source": [
        "import json\n",
        "import tensorflow.keras as keras\n",
        "from tensorflow.keras.preprocessing.text import Tokenizer\n",
        "from tensorflow.keras.preprocessing.sequence import pad_sequences"
      ]
    },
    {
      "cell_type": "code",
      "execution_count": null,
      "metadata": {
        "id": "CkmhhtpaKNMn"
      },
      "outputs": [],
      "source": [
        "chatbot = keras.models.load_model('dialogbot.keras')"
      ]
    },
    {
      "cell_type": "code",
      "execution_count": null,
      "metadata": {
        "id": "flRURu6oKn4w",
        "colab": {
          "base_uri": "https://localhost:8080/"
        },
        "outputId": "dbe13313-5f9e-4854-b94b-51649162129b"
      },
      "outputs": [
        {
          "output_type": "stream",
          "name": "stdout",
          "text": [
            "enter start textgyvy\n",
            "gyvy that is blue they is blue was was was was looking i\n"
          ]
        }
      ],
      "source": [
        "with open('/content/dailogtoken.json') as json_file:\n",
        "    token = json.load(json_file)\n",
        "def get_key(val):\n",
        "   for key, value in token.items():\n",
        "        if val == value:\n",
        "            return key\n",
        "\n",
        "def seq(seed_text):\n",
        "  string = seed_text.split(\" \")\n",
        "  for i in range(len(string)):\n",
        "    try:\n",
        "      string[i] = token[string[i]]\n",
        "    except:\n",
        "      string[i] = 1\n",
        "  return string\n",
        "seed_text = input (\"enter start text\")\n",
        "while True:\n",
        "      token_list = seq(seed_text)\n",
        "      token_list = pad_sequences([token_list], maxlen=18, padding='pre')\n",
        "      predicted = chatbot.predict(token_list, verbose=0)\n",
        "      a = max(predicted[0])\n",
        "      predicted=predicted.tolist()\n",
        "      b = predicted[0].index(a)\n",
        "      output_word = get_key(b)\n",
        "      seed_text += \" \"+ output_word\n",
        "      if a<0.65:\n",
        "        break\n",
        "print(seed_text)\n",
        "\n"
      ]
    },
    {
      "cell_type": "code",
      "source": [
        "anvil.server.wait_forever()"
      ],
      "metadata": {
        "colab": {
          "base_uri": "https://localhost:8080/",
          "height": 237
        },
        "id": "PzBCaFXislM6",
        "outputId": "7beee4fe-ce8c-4c28-8c14-25a0137f2c09"
      },
      "execution_count": null,
      "outputs": [
        {
          "output_type": "error",
          "ename": "KeyboardInterrupt",
          "evalue": "",
          "traceback": [
            "\u001b[0;31m---------------------------------------------------------------------------\u001b[0m",
            "\u001b[0;31mKeyboardInterrupt\u001b[0m                         Traceback (most recent call last)",
            "\u001b[0;32m<ipython-input-14-95cac3476493>\u001b[0m in \u001b[0;36m<cell line: 1>\u001b[0;34m()\u001b[0m\n\u001b[0;32m----> 1\u001b[0;31m \u001b[0manvil\u001b[0m\u001b[0;34m.\u001b[0m\u001b[0mserver\u001b[0m\u001b[0;34m.\u001b[0m\u001b[0mwait_forever\u001b[0m\u001b[0;34m(\u001b[0m\u001b[0;34m)\u001b[0m\u001b[0;34m\u001b[0m\u001b[0;34m\u001b[0m\u001b[0m\n\u001b[0m",
            "\u001b[0;32m/usr/local/lib/python3.10/dist-packages/anvil/server.py\u001b[0m in \u001b[0;36mwait_forever\u001b[0;34m()\u001b[0m\n\u001b[1;32m    438\u001b[0m     \u001b[0m_get_connection\u001b[0m\u001b[0;34m(\u001b[0m\u001b[0;34m)\u001b[0m\u001b[0;34m\u001b[0m\u001b[0;34m\u001b[0m\u001b[0m\n\u001b[1;32m    439\u001b[0m     \u001b[0;32mwhile\u001b[0m \u001b[0;32mTrue\u001b[0m\u001b[0;34m:\u001b[0m\u001b[0;34m\u001b[0m\u001b[0;34m\u001b[0m\u001b[0m\n\u001b[0;32m--> 440\u001b[0;31m         \u001b[0mtime\u001b[0m\u001b[0;34m.\u001b[0m\u001b[0msleep\u001b[0m\u001b[0;34m(\u001b[0m\u001b[0;36m1\u001b[0m\u001b[0;34m)\u001b[0m\u001b[0;34m\u001b[0m\u001b[0;34m\u001b[0m\u001b[0m\n\u001b[0m",
            "\u001b[0;31mKeyboardInterrupt\u001b[0m: "
          ]
        }
      ]
    }
  ],
  "metadata": {
    "colab": {
      "provenance": [],
      "include_colab_link": true
    },
    "kernelspec": {
      "display_name": "Python 3",
      "name": "python3"
    },
    "language_info": {
      "codemirror_mode": {
        "name": "ipython",
        "version": 3
      },
      "file_extension": ".py",
      "mimetype": "text/x-python",
      "name": "python",
      "nbconvert_exporter": "python",
      "pygments_lexer": "ipython3",
      "version": "3.12.0"
    }
  },
  "nbformat": 4,
  "nbformat_minor": 0
}