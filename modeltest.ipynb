{
  "nbformat": 4,
  "nbformat_minor": 0,
  "metadata": {
    "colab": {
      "provenance": []
    },
    "kernelspec": {
      "name": "python3",
      "display_name": "Python 3"
    },
    "language_info": {
      "name": "python"
    }
  },
  "cells": [
    {
      "cell_type": "code",
      "execution_count": null,
      "metadata": {
        "id": "RXPLcs23J9qt"
      },
      "outputs": [],
      "source": [
        "import json\n",
        "import tensorflow.keras as keras\n",
        "from tensorflow.keras.preprocessing.text import Tokenizer\n",
        "from tensorflow.keras.preprocessing.sequence import pad_sequences"
      ]
    },
    {
      "cell_type": "code",
      "source": [
        "chatbot = keras.models.load_model('dialogbot.keras')"
      ],
      "metadata": {
        "id": "CkmhhtpaKNMn"
      },
      "execution_count": null,
      "outputs": []
    },
    {
      "cell_type": "code",
      "source": [
        "with open('dailogtoken.json') as json_file:\n",
        "    token = json.load(json_file)\n",
        "def get_key(val):\n",
        "   for key, value in token.items():\n",
        "        if val == value:\n",
        "            return key\n",
        "def seq(seed_text):\n",
        "  string = seed_text.split(\" \")\n",
        "  for i in range(len(string)):\n",
        "    string[i] = token[string[i]]\n",
        "  return string\n",
        "seed_text = \"do\"\n",
        "next_words = 10\n",
        "\n",
        "\n",
        "for _ in range(next_words):\n",
        "  token_list = seq(seed_text)\n",
        "  token_list = pad_sequences([token_list], maxlen=18, padding='pre')\n",
        "  predicted = chatbot.predict(token_list, verbose=0)\n",
        "  # print(max(predicted[0]))\n",
        "  a = max(predicted[0])\n",
        "  predicted=predicted.tolist()\n",
        "  b = predicted[0].index(a)\n",
        "  output_word = get_key(b)\n",
        "  seed_text += \" \"+ output_word\n",
        "\n",
        "print(seed_text)\n"
      ],
      "metadata": {
        "colab": {
          "base_uri": "https://localhost:8080/"
        },
        "id": "flRURu6oKn4w",
        "outputId": "41ea570d-6a5e-4938-c590-1b54566c290c"
      },
      "execution_count": null,
      "outputs": [
        {
          "output_type": "stream",
          "name": "stdout",
          "text": [
            "do you have a digital tv for life she asked on\n"
          ]
        }
      ]
    }
  ]
}