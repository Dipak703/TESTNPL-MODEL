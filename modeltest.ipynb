{
  "cells": [
    {
      "cell_type": "markdown",
      "metadata": {
        "id": "view-in-github",
        "colab_type": "text"
      },
      "source": [
        "<a href=\"https://colab.research.google.com/github/Dipak703/TESTNPL-MODEL/blob/main/modeltest.ipynb\" target=\"_parent\"><img src=\"https://colab.research.google.com/assets/colab-badge.svg\" alt=\"Open In Colab\"/></a>"
      ]
    },
    {
      "cell_type": "code",
      "execution_count": null,
      "metadata": {
        "id": "RXPLcs23J9qt"
      },
      "outputs": [],
      "source": [
        "import json\n",
        "import tensorflow.keras as keras\n",
        "from tensorflow.keras.preprocessing.text import Tokenizer\n",
        "from tensorflow.keras.preprocessing.sequence import pad_sequences"
      ]
    },
    {
      "cell_type": "code",
      "execution_count": null,
      "metadata": {
        "id": "CkmhhtpaKNMn"
      },
      "outputs": [],
      "source": [
        "chatbot = keras.models.load_model('dialogbot.keras')"
      ]
    },
    {
      "cell_type": "code",
      "execution_count": null,
      "metadata": {
        "id": "flRURu6oKn4w",
        "colab": {
          "base_uri": "https://localhost:8080/"
        },
        "outputId": "dbe13313-5f9e-4854-b94b-51649162129b"
      },
      "outputs": [
        {
          "output_type": "stream",
          "name": "stdout",
          "text": [
            "enter start textgyvy\n",
            "gyvy that is blue they is blue was was was was looking i\n"
          ]
        }
      ],
      "source": [
        "with open('/content/dailogtoken.json') as json_file:\n",
        "    token = json.load(json_file)\n",
        "def get_key(val):\n",
        "   for key, value in token.items():\n",
        "        if val == value:\n",
        "            return key\n",
        "\n",
        "def seq(seed_text):\n",
        "  string = seed_text.split(\" \")\n",
        "  for i in range(len(string)):\n",
        "    try:\n",
        "      string[i] = token[string[i]]\n",
        "    except:\n",
        "      string[i] = 1\n",
        "  return string\n",
        "seed_text = input (\"enter start text\")\n",
        "while True:\n",
        "      token_list = seq(seed_text)\n",
        "      token_list = pad_sequences([token_list], maxlen=18, padding='pre')\n",
        "      predicted = chatbot.predict(token_list, verbose=0)\n",
        "      a = max(predicted[0])\n",
        "      predicted=predicted.tolist()\n",
        "      b = predicted[0].index(a)\n",
        "      output_word = get_key(b)\n",
        "      seed_text += \" \"+ output_word\n",
        "      if a<0.65:\n",
        "        break\n",
        "print(seed_text)\n",
        "\n"
      ]
    }
  ],
  "metadata": {
    "colab": {
      "provenance": [],
      "include_colab_link": true
    },
    "kernelspec": {
      "display_name": "Python 3",
      "name": "python3"
    },
    "language_info": {
      "codemirror_mode": {
        "name": "ipython",
        "version": 3
      },
      "file_extension": ".py",
      "mimetype": "text/x-python",
      "name": "python",
      "nbconvert_exporter": "python",
      "pygments_lexer": "ipython3",
      "version": "3.12.0"
    }
  },
  "nbformat": 4,
  "nbformat_minor": 0
}